{
  "nbformat": 4,
  "nbformat_minor": 0,
  "metadata": {
    "colab": {
      "name": "Create_without_repeated_numbers.ipynb",
      "provenance": [],
      "authorship_tag": "ABX9TyPN13r3IFH6UL+8uPAhT6bB",
      "include_colab_link": true
    },
    "kernelspec": {
      "name": "python3",
      "display_name": "Python 3"
    },
    "language_info": {
      "name": "python"
    }
  },
  "cells": [
    {
      "cell_type": "markdown",
      "metadata": {
        "id": "view-in-github",
        "colab_type": "text"
      },
      "source": [
        "<a href=\"https://colab.research.google.com/github/labeelola/Python-Code/blob/main/Create_without_repeated_numbers.ipynb\" target=\"_parent\"><img src=\"https://colab.research.google.com/assets/colab-badge.svg\" alt=\"Open In Colab\"/></a>"
      ]
    },
    {
      "cell_type": "code",
      "execution_count": 1,
      "metadata": {
        "colab": {
          "base_uri": "https://localhost:8080/"
        },
        "id": "t7K8MzpRkMV8",
        "outputId": "049ee287-717b-480c-d84b-ecf8185d4d3f"
      },
      "outputs": [
        {
          "output_type": "stream",
          "name": "stdout",
          "text": [
            "Enter list of numbers: 122153\n",
            "['1', '2', '5', '3']\n",
            "<class 'list'>\n"
          ]
        }
      ],
      "source": [
        "#@No.2\n",
        "\n",
        "text2=input(\"Enter list of numbers: \")\n",
        "new2=list(text2)\n",
        "not_repeated = []\n",
        "for i in new2:\n",
        "  if i not in not_repeated:\n",
        "    not_repeated.append(i)\n",
        "print(not_repeated)\n",
        "print(type(not_repeated))"
      ]
    }
  ]
}