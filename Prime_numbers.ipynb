{
  "nbformat": 4,
  "nbformat_minor": 0,
  "metadata": {
    "colab": {
      "name": "Prime numbers.ipynb",
      "provenance": [],
      "collapsed_sections": [],
      "authorship_tag": "ABX9TyOuWTaZNDZ3dPyF14CuXpv7",
      "include_colab_link": true
    },
    "kernelspec": {
      "name": "python3",
      "display_name": "Python 3"
    },
    "language_info": {
      "name": "python"
    }
  },
  "cells": [
    {
      "cell_type": "markdown",
      "metadata": {
        "id": "view-in-github",
        "colab_type": "text"
      },
      "source": [
        "<a href=\"https://colab.research.google.com/github/labeelola/Python-Code/blob/main/Prime_numbers.ipynb\" target=\"_parent\"><img src=\"https://colab.research.google.com/assets/colab-badge.svg\" alt=\"Open In Colab\"/></a>"
      ]
    },
    {
      "cell_type": "code",
      "metadata": {
        "id": "_MzQG8T6xLGf",
        "outputId": "71f56428-2d74-455e-8489-bd568eb6f3d3",
        "colab": {
          "base_uri": "https://localhost:8080/"
        }
      },
      "source": [
        "#@No.5\n",
        "num1=int(input(\"Enter first number of a range: \"))\n",
        "num2=int(input(\"Enter ending number of a range: \"))\n",
        "print(\" \")\n",
        "print(f'Prime numbers between {num1} and {num2} are: ')\n",
        "for i in range(num1,num2):\n",
        "  ct=0\n",
        "  k=i/2\n",
        "  for j in range(2,int(k)):\n",
        "    if i%j==0:\n",
        "       ct=ct+1\n",
        "       break\n",
        "  if (ct==0 and i!=1):\n",
        "    print(i)\n",
        "print(\" \")\n"
      ],
      "execution_count": 1,
      "outputs": [
        {
          "output_type": "stream",
          "name": "stdout",
          "text": [
            "Enter first number of a range: 15\n",
            "Enter ending number of a range: 55\n",
            " \n",
            "Prime numbers between 15 and 55 are: \n",
            "17\n",
            "19\n",
            "23\n",
            "29\n",
            "31\n",
            "37\n",
            "41\n",
            "43\n",
            "47\n",
            "53\n",
            " \n"
          ]
        }
      ]
    }
  ]
}