{
  "nbformat": 4,
  "nbformat_minor": 0,
  "metadata": {
    "colab": {
      "name": "Assignment Lab4-no.1.ipynb",
      "provenance": [],
      "collapsed_sections": [],
      "authorship_tag": "ABX9TyM7k9xyabeEDZjrUbm/IiTv",
      "include_colab_link": true
    },
    "kernelspec": {
      "name": "python3",
      "display_name": "Python 3"
    }
  },
  "cells": [
    {
      "cell_type": "markdown",
      "metadata": {
        "id": "view-in-github",
        "colab_type": "text"
      },
      "source": [
        "<a href=\"https://colab.research.google.com/github/labeelola/Python-Code/blob/main/Assignment_Lab4_no_1.ipynb\" target=\"_parent\"><img src=\"https://colab.research.google.com/assets/colab-badge.svg\" alt=\"Open In Colab\"/></a>"
      ]
    },
    {
      "cell_type": "code",
      "metadata": {
        "id": "Umi_kwFrnv19"
      },
      "source": [
        "import random\n",
        "import math\n",
        "import matplotlib.pyplot as plt"
      ],
      "execution_count": null,
      "outputs": []
    },
    {
      "cell_type": "code",
      "metadata": {
        "colab": {
          "base_uri": "https://localhost:8080/",
          "height": 570
        },
        "id": "nOt8lFkBnwof",
        "outputId": "62a28b73-4a1b-493e-cb03-13aba72d9d43"
      },
      "source": [
        "n=[100,1000,5000,100000]\n",
        "a=0\n",
        "b=2\n",
        "\n",
        "error_array=[]\n",
        "for trials in n:\n",
        "  func_sum=0\n",
        "  func_square_sum=0\n",
        "\n",
        "  for i in range(trials):\n",
        "    #randomly pick a value of x between a and b\n",
        "     x= random.uniform(a,b)\n",
        "    #find f(x) value\n",
        "     natural_log = math.log(x)\n",
        "     h=(x**2)*(math.exp(x))*natural_log\n",
        "    #func_sum update\n",
        "     func_sum=func_sum+h\n",
        "     func_square_sum=func_square_sum+(h**2)\n",
        "    #func_squared_sum update\n",
        "  \n",
        "  func_average=func_sum/trials\n",
        "  func_squared_average=func_square_sum/trials\n",
        "  integral_value=func_average*(b-a)\n",
        " \n",
        "  error=((b-a)/math.sqrt(trials))*(math.sqrt(func_squared_average - (func_average**2) ))\n",
        "  error_array.append(error)\n",
        "  print(\"For number of points= \", trials)\n",
        "  print(\"Integral value: \",integral_value)\n",
        "  print(\"Error:\", error)\n",
        "  print(\"\")\n",
        "x2=[\"100\", \"1000\", \"5000\",\"100000\"]\n",
        "plt.bar(x2,error_array,color=\"green\")\n",
        "plt.xlabel(\"Value of n\")\n",
        "plt.ylabel(\"Error estimate\")\n",
        "plt.show()\n"
      ],
      "execution_count": null,
      "outputs": [
        {
          "output_type": "stream",
          "text": [
            "For number of points=  100\n",
            "Integral value:  6.126131199549751\n",
            "Error: 0.9805016973335171\n",
            "\n",
            "For number of points=  1000\n",
            "Integral value:  5.987688851517952\n",
            "Error: 0.3333260658380738\n",
            "\n",
            "For number of points=  5000\n",
            "Integral value:  5.821932975181303\n",
            "Error: 0.14490665888614776\n",
            "\n",
            "For number of points=  100000\n",
            "Integral value:  5.9009205278997205\n",
            "Error: 0.03245658257516102\n",
            "\n"
          ],
          "name": "stdout"
        },
        {
          "output_type": "display_data",
          "data": {
            "image/png": "[encoded data removed]",
            "text/plain": [
              "<Figure size 432x288 with 1 Axes>"
            ]
          },
          "metadata": {
            "tags": [],
            "needs_background": "light"
          }
        }
      ]
    },
    {
      "cell_type": "code",
      "metadata": {
        "id": "-jPUKSNrrt1i"
      },
      "source": [
        ""
      ],
      "execution_count": null,
      "outputs": []
    }
  ]
}