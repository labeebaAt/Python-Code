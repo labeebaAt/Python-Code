{
  "nbformat": 4,
  "nbformat_minor": 0,
  "metadata": {
    "colab": {
      "name": "BomB_Distance_at_a_specified_Time.ipynb",
      "provenance": [],
      "authorship_tag": "ABX9TyMz08XsyLPju/a5HD/OWspw",
      "include_colab_link": true
    },
    "kernelspec": {
      "name": "python3",
      "display_name": "Python 3"
    },
    "language_info": {
      "name": "python"
    }
  },
  "cells": [
    {
      "cell_type": "markdown",
      "metadata": {
        "id": "view-in-github",
        "colab_type": "text"
      },
      "source": [
        "<a href=\"https://colab.research.google.com/github/labeelola/Python-Code/blob/main/BomB_Distance_at_a_specified_Time.ipynb\" target=\"_parent\"><img src=\"https://colab.research.google.com/assets/colab-badge.svg\" alt=\"Open In Colab\"/></a>"
      ]
    },
    {
      "cell_type": "code",
      "metadata": {
        "id": "N4nIJ6f6ZR52"
      },
      "source": [
        "import math\n",
        "x_t=[100, 110 ,120, 129, 140, 149, 158, 168, 179, 188, 198, 209, 219]\n",
        "y_t=[0, 3, 6, 10, 15, 20, 26, 32, 37, 34,30, 27, 23]\n",
        "x_d=[0]\n",
        "y_d=[60]\n",
        "v_d=20"
      ],
      "execution_count": 1,
      "outputs": []
    },
    {
      "cell_type": "code",
      "execution_count": 2,
      "metadata": {
        "colab": {
          "base_uri": "https://localhost:8080/"
        },
        "id": "1ymG-8kgpWzs",
        "outputId": "c8944e7e-972b-4c41-be4d-a50e76ec526f"
      },
      "outputs": [
        {
          "output_type": "stream",
          "name": "stdout",
          "text": [
            "BOMB at time=  10\n",
            "Bomb Distance=  8.21062382237854\n",
            "[0, 17.149858514250884, 35.01641115673864, 53.53071140145425, 72.6508284793503, 92.32589472576817, 112.28340693274177, 132.2215856640328, 151.7359467869743, 170.7992953406546, 190.79394651538675]\n",
            "[60, 49.71008489144947, 40.721965139620735, 33.15752950644071, 27.29057774870928, 23.700066893821308, 22.397106223463226, 23.96842060292196, 28.349026721192537, 34.39788958299515, 33.935369960944364]\n"
          ]
        }
      ],
      "source": [
        "dist_TD= math.sqrt((x_t[0]-x_d[0])**2 + (y_t[0]-y_d[0])**2)\n",
        "for t in range(1,12):\n",
        "  sin= (y_t[t-1] - y_d[t-1])/dist_TD\n",
        "  cos= (x_t[t-1] - x_d[t-1])/dist_TD\n",
        "  new_x_d= x_d[t-1]+ v_d*cos \n",
        "  new_y_d= y_d[t-1]+ v_d*sin\n",
        "  x_d.append(new_x_d)\n",
        "  y_d.append(new_y_d)\n",
        "\n",
        "  dist_TD= math.sqrt((x_t[t]-x_d[t])**2 + (y_t[t]-y_d[t])**2) #distance at time t\n",
        "  if dist_TD<10:\n",
        "    print(\"BOMB at time= \",t)\n",
        "    print(\"Bomb Distance= \",dist_TD)\n",
        "    break\n",
        "    \n",
        "print(x_d)\n",
        "print(y_d)"
      ]
    }
  ]
}