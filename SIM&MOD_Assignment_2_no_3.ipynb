{
  "nbformat": 4,
  "nbformat_minor": 0,
  "metadata": {
    "colab": {
      "name": "SIM&MOD Assignment-2-no.3.ipynb",
      "provenance": [],
      "collapsed_sections": [],
      "authorship_tag": "ABX9TyP9Rk1PWah6fzGU6sL0n2aU",
      "include_colab_link": true
    },
    "kernelspec": {
      "name": "python3",
      "display_name": "Python 3"
    }
  },
  "cells": [
    {
      "cell_type": "markdown",
      "metadata": {
        "id": "view-in-github",
        "colab_type": "text"
      },
      "source": [
        "<a href=\"https://colab.research.google.com/github/labeelola/Python-Code/blob/main/SIM%26MOD_Assignment_2_no_3.ipynb\" target=\"_parent\"><img src=\"https://colab.research.google.com/assets/colab-badge.svg\" alt=\"Open In Colab\"/></a>"
      ]
    },
    {
      "cell_type": "code",
      "metadata": {
        "id": "CfL53B-WgpSz",
        "outputId": "7e7d7581-6021-4e10-cc17-8ca465556150",
        "colab": {
          "base_uri": "https://localhost:8080/",
          "height": 639
        }
      },
      "source": [
        "import random\n",
        "import math\n",
        "import matplotlib.pyplot as plt\n",
        "\n",
        "n=[100,1000,5000,10000]\n",
        "\n",
        "area_under_curve_array=[]\n",
        "\n",
        "for trials in n:\n",
        "  print(\"Total trials: \",trials)\n",
        "  hits=0\n",
        "  hits2=0\n",
        "  for i in range(trials):\n",
        "      x= random.uniform(4,8)\n",
        "      y= random.uniform(0,4)\n",
        "      k=8-x\n",
        "      if 4<=x<=8 and y<=k:\n",
        "       hits=hits+1\n",
        "    \n",
        "  for i in range(trials):\n",
        "      x= random.uniform(0,4)\n",
        "      y= random.uniform(0,4)\n",
        "      h= math.sqrt(4*x)\n",
        "      if 0<=x<4 and y<=h:\n",
        "       hits2=hits2+1\n",
        "    \n",
        "  # print(hits/trials)\n",
        "  area1=(hits/trials)*16\n",
        "  area2=(hits2/trials)*16\n",
        "  print(\"value of area1=\",area1)\n",
        "  print(\"value of area2=\",area2)\n",
        "  \n",
        "  total_area=area1+area2\n",
        "  print(\"total area=\", total_area) \n",
        "  print(\" \")\n",
        "  area_under_curve_array.append(total_area)\n",
        "\n",
        "  \n",
        "\n",
        "print(area_under_curve_array)\n",
        "\n",
        "\n",
        "\n",
        "x=[\"100\",\"1000\",\"5000\",\"10000\"]\n",
        "\n",
        "plt.scatter(x,area_under_curve_array, label=\"Area\", color=\"green\")\n",
        "plt.xlabel(\"value of n\")\n",
        "plt.ylabel(\"value of area\")\n",
        "plt.legend()\n",
        "plt.show()"
      ],
      "execution_count": null,
      "outputs": [
        {
          "output_type": "stream",
          "text": [
            "Total trials:  100\n",
            "value of area1= 7.68\n",
            "value of area2= 11.68\n",
            "total area= 19.36\n",
            " \n",
            "Total trials:  1000\n",
            "value of area1= 8.224\n",
            "value of area2= 10.704\n",
            "total area= 18.928\n",
            " \n",
            "Total trials:  5000\n",
            "value of area1= 7.92\n",
            "value of area2= 10.7168\n",
            "total area= 18.6368\n",
            " \n",
            "Total trials:  10000\n",
            "value of area1= 7.8608\n",
            "value of area2= 10.592\n",
            "total area= 18.4528\n",
            " \n",
            "[19.36, 18.928, 18.6368, 18.4528]\n"
          ],
          "name": "stdout"
        },
        {
          "output_type": "display_data",
          "data": {
            "image/png": "[encoded data removed]",
            "text/plain": [
              "<Figure size 432x288 with 1 Axes>"
            ]
          },
          "metadata": {
            "tags": [],
            "needs_background": "light"
          }
        }
      ]
    },
    {
      "cell_type": "code",
      "metadata": {
        "id": "0sqc1Qs0lylj"
      },
      "source": [
        ""
      ],
      "execution_count": null,
      "outputs": []
    }
  ]
}