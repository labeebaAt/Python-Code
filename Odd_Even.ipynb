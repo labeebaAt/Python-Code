{
  "nbformat": 4,
  "nbformat_minor": 0,
  "metadata": {
    "colab": {
      "name": "Odd-Even.ipynb",
      "provenance": [],
      "collapsed_sections": [],
      "authorship_tag": "ABX9TyM1OXji3BhFeWYmYFkZ/V0y",
      "include_colab_link": true
    },
    "kernelspec": {
      "name": "python3",
      "display_name": "Python 3"
    },
    "language_info": {
      "name": "python"
    }
  },
  "cells": [
    {
      "cell_type": "markdown",
      "metadata": {
        "id": "view-in-github",
        "colab_type": "text"
      },
      "source": [
        "<a href=\"https://colab.research.google.com/github/labeelola/Python-Code/blob/main/Odd_Even.ipynb\" target=\"_parent\"><img src=\"https://colab.research.google.com/assets/colab-badge.svg\" alt=\"Open In Colab\"/></a>"
      ]
    },
    {
      "cell_type": "code",
      "metadata": {
        "id": "gzT42qaTpsSp",
        "outputId": "2da0fefa-de5c-4f0e-f374-040117f6b111",
        "colab": {
          "base_uri": "https://localhost:8080/"
        }
      },
      "source": [
        "#@No.3\n",
        "# str1=input(\"Enter list of numbers:  \")\n",
        "#  num1=list(str1)\n",
        "list1=[1,2,3,4,5,7,8,9]\n",
        "count_odd=0\n",
        "count_even=0\n",
        "list_num=[]\n",
        "for i in list1:\n",
        " if i  % 2 != 0:\n",
        "         count_odd=count_odd+1\n",
        "         list_num.append(i)\n",
        " else:\n",
        "         count_even=count_even+1\n",
        "print('Number of odds: ',count_odd) \n",
        "print('Number of evens: ',count_even)\n",
        "print('Updated list: ',list_num)          \n"
      ],
      "execution_count": 1,
      "outputs": [
        {
          "output_type": "stream",
          "name": "stdout",
          "text": [
            "Number of odds:  5\n",
            "Number of evens:  3\n",
            "Updated list:  [1, 3, 5, 7, 9]\n"
          ]
        }
      ]
    }
  ]
}