{
  "nbformat": 4,
  "nbformat_minor": 0,
  "metadata": {
    "colab": {
      "name": "practice.ipynb",
      "provenance": [],
      "collapsed_sections": [],
      "authorship_tag": "ABX9TyPpvFHChXiGH9r0AmLq8LHF",
      "include_colab_link": true
    },
    "kernelspec": {
      "name": "python3",
      "display_name": "Python 3"
    }
  },
  "cells": [
    {
      "cell_type": "markdown",
      "metadata": {
        "id": "view-in-github",
        "colab_type": "text"
      },
      "source": [
        "<a href=\"https://colab.research.google.com/github/labeelola/Python-Code/blob/main/practice.ipynb\" target=\"_parent\"><img src=\"https://colab.research.google.com/assets/colab-badge.svg\" alt=\"Open In Colab\"/></a>"
      ]
    },
    {
      "cell_type": "code",
      "metadata": {
        "id": "PXCWJEnRMgYl",
        "outputId": "716447be-cae5-4246-ae6e-424d98fdff7f",
        "colab": {
          "base_uri": "https://localhost:8080/"
        }
      },
      "source": [
        "#@No.1\n",
        "txt=input(\"Enter a text:  \")\n",
        "# txt='energtic'\n",
        "new=list(txt)\n",
        "symbol='$'\n",
        "temp=new[0]\n",
        "for c in range(1, len(new)):\n",
        "  if new[c] == temp:\n",
        "      new[c] = symbol\n",
        "w=\"\".join(new)\n",
        "print(w)"
      ],
      "execution_count": 6,
      "outputs": [
        {
          "output_type": "stream",
          "name": "stdout",
          "text": [
            "Enter a text:  energetic\n",
            "en$rg$tic\n"
          ]
        }
      ]
    },
    {
      "cell_type": "code",
      "metadata": {
        "id": "2QVDihxLf80c",
        "outputId": "85550908-9004-45f5-fe80-48a912e07406",
        "colab": {
          "base_uri": "https://localhost:8080/"
        }
      },
      "source": [
        ""
      ],
      "execution_count": null,
      "outputs": [
        {
          "output_type": "stream",
          "text": [
            "Enter list of numbers: 1213537\n",
            "['1', '2', '3', '5', '7']\n",
            "<class 'list'>\n"
          ],
          "name": "stdout"
        }
      ]
    },
    {
      "cell_type": "code",
      "metadata": {
        "id": "BJIyLXLsnAur",
        "outputId": "6c6672a1-b0c5-43d5-8c9f-3882d9dca60a",
        "colab": {
          "base_uri": "https://localhost:8080/"
        }
      },
      "source": [
        "#@No.4\n",
        "s='*'\n",
        "\n",
        "for i in range(0,5):\n",
        "  for j in range(0,i):\n",
        "    print(s, end=\" \") #'end=' to print side by side\n",
        "  print(\" \") #printing line by line after ...\n",
        "for k in range(3,0,-1):\n",
        "  for g in range(0, k):\n",
        "    print(s, end=\" \")\n",
        "  print(\" \")\n",
        "  "
      ],
      "execution_count": null,
      "outputs": [
        {
          "output_type": "stream",
          "text": [
            " \n",
            "*  \n",
            "* *  \n",
            "* * *  \n",
            "* * * *  \n",
            "* * *  \n",
            "* *  \n",
            "*  \n"
          ],
          "name": "stdout"
        }
      ]
    },
    {
      "cell_type": "code",
      "metadata": {
        "id": "gzT42qaTpsSp",
        "outputId": "49ddb34a-a912-4440-eb05-65a47660a42f",
        "colab": {
          "base_uri": "https://localhost:8080/"
        }
      },
      "source": [
        "#@No.3\n",
        "# str1=input(\"Enter list of numbers:  \")\n",
        "#  num1=list(str1)\n",
        "list1=[1,2,3,4,5,7,8,9]\n",
        "count_odd=0\n",
        "count_even=0\n",
        "list_num=[]\n",
        "for i in list1:\n",
        " if i  % 2 != 0:\n",
        "         count_odd=count_odd+1\n",
        "         list_num.append(i)\n",
        " else:\n",
        "         count_even=count_even+1\n",
        "print('Number of odds: ',count_odd) \n",
        "print('Number of evens: ',count_even)\n",
        "print('Updated list: ',list_num)          \n"
      ],
      "execution_count": null,
      "outputs": [
        {
          "output_type": "stream",
          "text": [
            "Number of odds:  5\n",
            "Number of evens:  3\n",
            "Updated list:  [1, 3, 5, 7, 9]\n"
          ],
          "name": "stdout"
        }
      ]
    },
    {
      "cell_type": "code",
      "metadata": {
        "id": "_MzQG8T6xLGf",
        "outputId": "6dfdd971-76c5-4fdc-8fa5-ba3a3a49d928",
        "colab": {
          "base_uri": "https://localhost:8080/"
        }
      },
      "source": [
        "#@No.5\n",
        "num1=int(input(\"Enter first number of a range: \"))\n",
        "num2=int(input(\"Enter ending number of a range: \"))\n",
        "print(\" \")\n",
        "print(f'Prime numbers between {num1} and {num2} are: ')\n",
        "for i in range(num1,num2):\n",
        "  ct=0\n",
        "  k=i/2\n",
        "  for j in range(2,int(k)):\n",
        "    if i%j==0:\n",
        "       ct=ct+1\n",
        "       break\n",
        "  if (ct==0 and i!=1):\n",
        "    print(i)\n",
        "print(\" \")\n"
      ],
      "execution_count": null,
      "outputs": [
        {
          "output_type": "stream",
          "text": [
            "Enter first number of a range: 25\n",
            "Enter ending number of a range: 50\n",
            " \n",
            "Prime numbers between 25 and 50 are: \n",
            "29\n",
            "31\n",
            "37\n",
            "41\n",
            "43\n",
            "47\n",
            " \n"
          ],
          "name": "stdout"
        }
      ]
    },
    {
      "cell_type": "code",
      "metadata": {
        "id": "GE2Q0b5DA10g",
        "outputId": "8f8e191f-e57d-47db-b716-d660b7f5fe27",
        "colab": {
          "base_uri": "https://localhost:8080/"
        }
      },
      "source": [
        "#@No.6\n",
        "listOne=[3,6,9,12,15,18,21]\n",
        "listTwo=[4,8,12,16,20,24,28]\n",
        "update_list=[]\n",
        "for i in range(len(listOne)):\n",
        "   if i % 2 !=0:\n",
        "     update_list.append(listOne[i])\n",
        "\n",
        "\n",
        "for i in range(len(listTwo)):\n",
        "   if i% 2==0:\n",
        "     update_list.append(listTwo[i])\n",
        "\n",
        "\n",
        "print('Updated Final Third list: ',update_list)"
      ],
      "execution_count": null,
      "outputs": [
        {
          "output_type": "stream",
          "text": [
            "Updated Final Third list:  [6, 12, 18, 4, 12, 20, 28]\n"
          ],
          "name": "stdout"
        }
      ]
    },
    {
      "cell_type": "code",
      "metadata": {
        "id": "UkkLOvFiINFF",
        "outputId": "647e562e-50f8-41ad-ac4c-6547e5662173",
        "colab": {
          "base_uri": "https://localhost:8080/",
          "height": 279
        }
      },
      "source": [
        "#@No.7(i)\n",
        "import matplotlib.pyplot as plt\n",
        "import numpy as np\n",
        "\n",
        "y1=[2500,2630,2140,3400,3600,2760]\n",
        "x1=[1,2,3,4,5,6]\n",
        "plt.plot(x1,y1,label=\"Toothpaste\")\n",
        "y2=[1500,1200,1340,1130,1740,1555]\n",
        "x2=[1,2,3,4,5,6]\n",
        "plt.plot(x2,y2,label=\"Facewash\")\n",
        "y3=[5200,5100,4550,5870,4560,4890]\n",
        "x3=[1,2,3,4,5,6]\n",
        "plt.plot(x3,y3, label=\"Shampoo\")\n",
        "y4=[9200,6100,9550,8870,7760,7490]\n",
        "x4=[1,2,3,4,5,6]\n",
        "plt.plot(x4,y4,label=\"Moisturizer\")\n",
        "y5=[1200,2100,3550,1870,1560,1890]\n",
        "x5=[1,2,3,4,5,6]\n",
        "\n",
        "plt.plot(x5,y5,label=\"Soap\")\n",
        "plt.xlabel('Month no.')\n",
        "plt.ylabel('Sales unit')\n",
        "plt.legend()\n",
        "plt.show()\n"
      ],
      "execution_count": null,
      "outputs": [
        {
          "output_type": "display_data",
          "data": {
            "image/png": "[encoded data removed]",
            "text/plain": [
              "<Figure size 432x288 with 1 Axes>"
            ]
          },
          "metadata": {
            "tags": [],
            "needs_background": "light"
          }
        }
      ]
    },
    {
      "cell_type": "code",
      "metadata": {
        "id": "5f3GsQRTR-kn",
        "outputId": "6a2bb307-9f14-48cf-c754-297bfe212ffc",
        "colab": {
          "base_uri": "https://localhost:8080/",
          "height": 265
        }
      },
      "source": [
        "#@No.7(ii)\n",
        "import matplotlib.pyplot as plt\n",
        "\n",
        "y1=[9200,6100,9550,8870,7760,7490]\n",
        "x1=[1,2,3,4,5,6]\n",
        "plt.scatter(x1,y1, label=\"Moisturizer sales\", color=\"green\")\n",
        "plt.legend()\n",
        "plt.show()\n"
      ],
      "execution_count": null,
      "outputs": [
        {
          "output_type": "display_data",
          "data": {
            "image/png": "[encoded data removed]",
            "text/plain": [
              "<Figure size 432x288 with 1 Axes>"
            ]
          },
          "metadata": {
            "tags": [],
            "needs_background": "light"
          }
        }
      ]
    },
    {
      "cell_type": "code",
      "metadata": {
        "id": "-TsbNaEET3Wt",
        "outputId": "cfa62e2b-3bc0-477a-bbf2-191a4d2edf2d",
        "colab": {
          "base_uri": "https://localhost:8080/",
          "height": 442
        }
      },
      "source": [
        "#@No.7(iii)\n",
        "import numpy as np\n",
        "import matplotlib.pyplot as plt\n",
        "a=2500+1500+5200+9200+1200\n",
        "bar_for={'1st month': a,'2nd month':17130, '3rd month':21130, '4th month':21140,'5th month':19220,'6th month':18585}\n",
        "month=list(bar_for.keys())\n",
        "total=list(bar_for.values())\n",
        "fig=plt.figure(figsize=(8,7))\n",
        "plt.bar(month,total,color='red', width=0.501)\n",
        "plt.ylabel('Total Number of Sales')\n",
        "plt.xlabel('Months')\n",
        "plt.show()"
      ],
      "execution_count": 5,
      "outputs": [
        {
          "output_type": "display_data",
          "data": {
            "text/plain": [
              "<Figure size 576x504 with 1 Axes>"
            ],
            "image/png": "[encoded data removed]"
          },
          "metadata": {
            "needs_background": "light"
          }
        }
      ]
    }
  ]
}