{
  "nbformat": 4,
  "nbformat_minor": 0,
  "metadata": {
    "colab": {
      "name": "StarPattern.ipynb",
      "provenance": [],
      "collapsed_sections": [],
      "authorship_tag": "ABX9TyNty1vykTjGww+3NuAgELUf",
      "include_colab_link": true
    },
    "kernelspec": {
      "name": "python3",
      "display_name": "Python 3"
    },
    "language_info": {
      "name": "python"
    }
  },
  "cells": [
    {
      "cell_type": "markdown",
      "metadata": {
        "id": "view-in-github",
        "colab_type": "text"
      },
      "source": [
        "<a href=\"https://colab.research.google.com/github/labeelola/Python-Code/blob/main/StarPattern.ipynb\" target=\"_parent\"><img src=\"https://colab.research.google.com/assets/colab-badge.svg\" alt=\"Open In Colab\"/></a>"
      ]
    },
    {
      "cell_type": "code",
      "metadata": {
        "id": "BJIyLXLsnAur",
        "outputId": "f2c0c18d-cf01-4479-a288-0f5e0de36bf2",
        "colab": {
          "base_uri": "https://localhost:8080/"
        }
      },
      "source": [
        "#@No.4\n",
        "s='*'\n",
        "\n",
        "for i in range(0,5):\n",
        "  for j in range(0,i):\n",
        "    print(s, end=\" \") #'end=' to print side by side\n",
        "  print(\" \") #printing line by line after ...\n",
        "for k in range(3,0,-1):\n",
        "  for g in range(0, k):\n",
        "    print(s, end=\" \")\n",
        "  print(\" \")\n",
        "  "
      ],
      "execution_count": 1,
      "outputs": [
        {
          "output_type": "stream",
          "name": "stdout",
          "text": [
            " \n",
            "*  \n",
            "* *  \n",
            "* * *  \n",
            "* * * *  \n",
            "* * *  \n",
            "* *  \n",
            "*  \n"
          ]
        }
      ]
    }
  ]
}